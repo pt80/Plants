
import pandas as pd
import numpy as np
import re
from bs4 import BeautifulSoup as bs
import requests
import time

#read in data from site
plant_soup=bs(requests.get('https://www.thespruce.com/plants-a-to-z-5116344').text,'html5lib')

#find the JSON data generated from the javascript on the site
site_lst = plant_soup.find_all('script')

json_string = site_lst[3].string
json_string = json_string.split('}') 

cleaned_lst=[]
plant_site_lst=[]

#strip down to a single URL for each listed plant
for i,json_str in enumerate(json_string):
    cleaned_lst.append(json_str.replace('\n','').split(','))
    if len(cleaned_lst[i]) == 4:
        plant_site_lst.append(cleaned_lst[i][3])

#clean up each URL
plant_site_lst=[i.strip('"url" :') for i in plant_site_lst]

#create empty lists for plant data
botanical_name=[]
common_name=[]
family=[]
plant_type=[]
mature_size=[]
sun_exposure=[]
soil_type=[]
soil_ph=[]
bloom_time=[]
flower_color=[]
hardiness_zones=[]
native_area=[]

#read in data from site and filter it to correct list
for i in plant_site_lst: 
    time.sleep(.01) #wait n seconds to not overload the website with requests
    sample = bs(requests.get(i).text,'html5lib')
    plant_tbl_data = sample.find_all('td')
    
    for j,data in enumerate(plant_tbl_data):

        if plant_tbl_data[j].get_text().strip() == 'Botanical Name':
            botanical_name.append(plant_tbl_data[j+1].get_text())
            
        elif plant_tbl_data[j].get_text().strip() == 'Common Name':
            common_name.append(plant_tbl_data[j+1].get_text())
            
        elif plant_tbl_data[j].get_text().strip() == 'Family':
            family.append(plant_tbl_data[j+1].get_text())
            
        elif plant_tbl_data[j].get_text().strip() == 'Plant Type':
            plant_type.append(plant_tbl_data[j+1].get_text())
            
        elif plant_tbl_data[j].get_text().strip() == 'Mature Size':
            mature_size.append(plant_tbl_data[j+1].get_text())
            
        elif plant_tbl_data[j].get_text().strip() == 'Sun Exposure':
            sun_exposure.append(plant_tbl_data[j+1].get_text())
            
        elif plant_tbl_data[j].get_text().strip() == 'Soil Type':
            soil_type.append(plant_tbl_data[j+1].get_text())
            
        elif plant_tbl_data[j].get_text().strip() == 'Soil pH':
            soil_ph.append(plant_tbl_data[j+1].get_text())
            
        elif plant_tbl_data[j].get_text().strip() == 'Bloom Time':
            bloom_time.append(plant_tbl_data[j+1].get_text())
            
        elif plant_tbl_data[j].get_text().strip() == 'Flower Color':
            flower_color.append(plant_tbl_data[j+1].get_text())
            
        elif plant_tbl_data[j].get_text().strip() == 'Hardiness Zones':
            hardiness_zones.append(plant_tbl_data[j+1].get_text())
            
        elif plant_tbl_data[j].get_text().strip() == 'Native Area':
            native_area.append(plant_tbl_data[j+1].get_text())

    #check length of all lists and if not equal -> add nan to it
    #this should bring each list in line and an added nan should not exceed 1 per list
    lst_length = max(len(botanical_name),
                    len(common_name),
                    len(family),
                    len(plant_type),
                    len(mature_size),
                    len(sun_exposure),
                    len(soil_type),
                    len(soil_ph),
                    len(bloom_time),
                    len(flower_color),
                    len(hardiness_zones),
                    len(native_area))

    if len(botanical_name) < lst_length:
        botanical_name.append(np.nan)
    if len(common_name) < lst_length:
        common_name.append(np.nan)
    if len(family) < lst_length:
        family.append(np.nan)
    if len(plant_type) < lst_length:
        plant_type.append(np.nan)            
    if len(mature_size) < lst_length:
        mature_size.append(np.nan)
    if len(sun_exposure) < lst_length:
        sun_exposure.append(np.nan)
    if len(soil_type) < lst_length:
        soil_type.append(np.nan)
    if len(soil_ph) < lst_length:
        soil_ph.append(np.nan)
    if len(bloom_time) < lst_length:
        bloom_time.append(np.nan)           
    if len(flower_color) < lst_length:
        flower_color.append(np.nan)
    if len(hardiness_zones) < lst_length:
        hardiness_zones.append('none')
    if len(native_area) < lst_length:
        native_area.append(np.nan)
            
#add all of the data to a data frame
plant_df = pd.DataFrame()
plant_df['botanical_name']=botanical_name
plant_df['common_name']=common_name
plant_df['family']=family
plant_df['plant_type']=plant_type
plant_df['mature_size']=mature_size
plant_df['sun_exposure']=sun_exposure
plant_df['soil_type']=soil_type
plant_df['soil_ph']=soil_ph
plant_df['bloom_time']=bloom_time
plant_df['flower_color']=flower_color
plant_df['hardiness_zones']=hardiness_zones
plant_df['native_area']=native_area
plant_df['all_hardiness_zones']=hardiness_zones

#since the key for the database will use the latin name, any missing their latin name will be dropped. 
plant_df.dropna(subset=['botanical_name'],inplace=True)
plant_df.reset_index(drop=True, inplace=True)

#save the scrapped date to a csv
plant_df.to_csv('Scrapped Plant Data.csv')

#Read in file
file = 'Scrapped Plant Data.csv'
df = pd.read_csv(file, index_col=0)


for index, row in plant_df.iterrows():  
    string = row['hardiness_zones']
    nubmerstring=re.findall('[0-9]+', string)       
    area=[]
    if len(nubmerstring) > 0:
        for i in nubmerstring:
            area.append(int(i))  
        print(area)
        for n in range(min(area),max(area)+1):
            plant_df.loc[len(plant_df.index)] = [row['botanical_name'],
                                     row['common_name'], 
                                     row['family'],
                                     row['plant_type'],
                                     row['mature_size'],
                                     row['sun_exposure'],
                                     row['soil_type'],
                                     row['soil_ph'],
                                     row['bloom_time'],
                                     row['flower_color'],
                                     n,
                                     row['native_area'],
                                     nubmerstring]


for index, row in plant_df.iterrows():  
    if type(row['hardiness_zones']) != int:
        plant_df=plant_df.drop([index])
                      

bloom = plant_df[["bloom_time"]]

hardiness_df = pd.DataFrame()
min_celsius=[-51.1,-45.6,-40,-34.4,-28.9,-23.3,-17.8,-12.2,-6.7,-1.1,4.4,10,15.6]
max_celsius=[-45.6,-40,-34.4,-28.9,-23.3,-17.8,-12.2,-6.7,-1.1,4.4,10,15.6,21.1]
min_fahrenheit=[-60,-50,-40,-30,-20,-10,0,10,20,30,40,50,60]
max_fahrenheit=[-50,-40,-30,-20,-10,0,10,20,30,40,50,60,70]
zone_name=[1,2,3,4,5,6,7,8,9,10,11,12,13]
hardiness_df['min_celsius']=min_celsius
hardiness_df['max_celsius']=max_celsius
hardiness_df['min_fahrenheit']=min_fahrenheit
hardiness_df['max_fahrenheit']=max_fahrenheit
hardiness_df['zone_name']=zone_name

test = plant_df.merge(hardiness_df, left_on='hardiness_zones', right_on='zone_name')
test.to_csv('Data.csv')

for index, row in bloom.iterrows():  
    string = row['bloom_time']
    if type(string) != float:
        string = string.lower()
        string = string.replace("spring", "March, April, May")
        string = string.replace("summer", "June, July, August")
        string = string.replace("fall", "September, October, November")
        string = string.replace("winter", "December, January, Februaury")
        row['bloom_time'] = string
    
    
    
